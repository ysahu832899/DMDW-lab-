{
  "nbformat": 4,
  "nbformat_minor": 0,
  "metadata": {
    "colab": {
      "name": "LAB_ASSIGNMENT-3",
      "provenance": [],
      "collapsed_sections": []
    },
    "kernelspec": {
      "name": "python3",
      "display_name": "Python 3"
    },
    "language_info": {
      "name": "python"
    }
  },
  "cells": [
    {
      "cell_type": "markdown",
      "metadata": {
        "id": "qBU0p4rtXKLB"
      },
      "source": [
        "# 1)\n",
        "# A) Create a Dataframe (size= 3x4) with random integers with explicit indexing.\n",
        "# B) Perform sin(df * pi / 4) operation over the dataframe\n",
        "# C) Subtract first value of the dataframe from each elements of the dataframe.\n",
        "# D) Subtract first row of the dataframe from each rows of the dataframe."
      ]
    },
    {
      "cell_type": "code",
      "metadata": {
        "id": "ljNmUQWrXheZ"
      },
      "source": [
        "import pandas as pd\n",
        "import numpy as np"
      ],
      "execution_count": 2,
      "outputs": []
    },
    {
      "cell_type": "code",
      "metadata": {
        "colab": {
          "base_uri": "https://localhost:8080/",
          "height": 142
        },
        "id": "1wXsswiIW3oo",
        "outputId": "7bbd5df0-1012-4da4-b7a9-e9216f84c031"
      },
      "source": [
        "df = pd.DataFrame(np.random.randint(0,100,size=(3, 4)), columns=list('ABCD'))\n",
        "df"
      ],
      "execution_count": 3,
      "outputs": [
        {
          "output_type": "execute_result",
          "data": {
            "text/html": [
              "<div>\n",
              "<style scoped>\n",
              "    .dataframe tbody tr th:only-of-type {\n",
              "        vertical-align: middle;\n",
              "    }\n",
              "\n",
              "    .dataframe tbody tr th {\n",
              "        vertical-align: top;\n",
              "    }\n",
              "\n",
              "    .dataframe thead th {\n",
              "        text-align: right;\n",
              "    }\n",
              "</style>\n",
              "<table border=\"1\" class=\"dataframe\">\n",
              "  <thead>\n",
              "    <tr style=\"text-align: right;\">\n",
              "      <th></th>\n",
              "      <th>A</th>\n",
              "      <th>B</th>\n",
              "      <th>C</th>\n",
              "      <th>D</th>\n",
              "    </tr>\n",
              "  </thead>\n",
              "  <tbody>\n",
              "    <tr>\n",
              "      <th>0</th>\n",
              "      <td>49</td>\n",
              "      <td>42</td>\n",
              "      <td>88</td>\n",
              "      <td>15</td>\n",
              "    </tr>\n",
              "    <tr>\n",
              "      <th>1</th>\n",
              "      <td>79</td>\n",
              "      <td>73</td>\n",
              "      <td>82</td>\n",
              "      <td>2</td>\n",
              "    </tr>\n",
              "    <tr>\n",
              "      <th>2</th>\n",
              "      <td>23</td>\n",
              "      <td>10</td>\n",
              "      <td>41</td>\n",
              "      <td>66</td>\n",
              "    </tr>\n",
              "  </tbody>\n",
              "</table>\n",
              "</div>"
            ],
            "text/plain": [
              "    A   B   C   D\n",
              "0  49  42  88  15\n",
              "1  79  73  82   2\n",
              "2  23  10  41  66"
            ]
          },
          "metadata": {},
          "execution_count": 3
        }
      ]
    },
    {
      "cell_type": "code",
      "metadata": {
        "colab": {
          "base_uri": "https://localhost:8080/",
          "height": 142
        },
        "id": "2Vz0X_loXkOg",
        "outputId": "c3aedd29-f4a4-4cdf-e192-1fa59a2969bc"
      },
      "source": [
        "np.sin(df * np.pi / 4)"
      ],
      "execution_count": 4,
      "outputs": [
        {
          "output_type": "execute_result",
          "data": {
            "text/html": [
              "<div>\n",
              "<style scoped>\n",
              "    .dataframe tbody tr th:only-of-type {\n",
              "        vertical-align: middle;\n",
              "    }\n",
              "\n",
              "    .dataframe tbody tr th {\n",
              "        vertical-align: top;\n",
              "    }\n",
              "\n",
              "    .dataframe thead th {\n",
              "        text-align: right;\n",
              "    }\n",
              "</style>\n",
              "<table border=\"1\" class=\"dataframe\">\n",
              "  <thead>\n",
              "    <tr style=\"text-align: right;\">\n",
              "      <th></th>\n",
              "      <th>A</th>\n",
              "      <th>B</th>\n",
              "      <th>C</th>\n",
              "      <th>D</th>\n",
              "    </tr>\n",
              "  </thead>\n",
              "  <tbody>\n",
              "    <tr>\n",
              "      <th>0</th>\n",
              "      <td>0.707107</td>\n",
              "      <td>1.000000</td>\n",
              "      <td>-9.799650e-15</td>\n",
              "      <td>-0.707107</td>\n",
              "    </tr>\n",
              "    <tr>\n",
              "      <th>1</th>\n",
              "      <td>-0.707107</td>\n",
              "      <td>0.707107</td>\n",
              "      <td>1.000000e+00</td>\n",
              "      <td>1.000000</td>\n",
              "    </tr>\n",
              "    <tr>\n",
              "      <th>2</th>\n",
              "      <td>-0.707107</td>\n",
              "      <td>1.000000</td>\n",
              "      <td>7.071068e-01</td>\n",
              "      <td>1.000000</td>\n",
              "    </tr>\n",
              "  </tbody>\n",
              "</table>\n",
              "</div>"
            ],
            "text/plain": [
              "          A         B             C         D\n",
              "0  0.707107  1.000000 -9.799650e-15 -0.707107\n",
              "1 -0.707107  0.707107  1.000000e+00  1.000000\n",
              "2 -0.707107  1.000000  7.071068e-01  1.000000"
            ]
          },
          "metadata": {},
          "execution_count": 4
        }
      ]
    },
    {
      "cell_type": "code",
      "metadata": {
        "colab": {
          "base_uri": "https://localhost:8080/"
        },
        "id": "05iBA0yxXrBQ",
        "outputId": "f86268e7-e398-4059-8938-409ba4302766"
      },
      "source": [
        "df = pd.DataFrame(np.random.randint(0,100,size=(3, 4)), columns=list('ABCD'))\n",
        "first_value=df.iloc[0][0]\n",
        "print(df.subtract(first_value, axis = 1))"
      ],
      "execution_count": 7,
      "outputs": [
        {
          "output_type": "stream",
          "name": "stdout",
          "text": [
            "    A   B   C   D\n",
            "0   0 -13   8 -12\n",
            "1 -25 -58 -57 -25\n",
            "2  19 -13 -37 -44\n"
          ]
        }
      ]
    },
    {
      "cell_type": "code",
      "metadata": {
        "colab": {
          "base_uri": "https://localhost:8080/"
        },
        "id": "StZAqKEiYGoQ",
        "outputId": "66aa6533-102f-44d5-f2be-f22b90723137"
      },
      "source": [
        "df = pd.DataFrame(np.random.randint(0,100,size=(3, 4)), columns=list('ABCD'))\n",
        "first_row=df.iloc[0]\n",
        "print(df.subtract(first_row, axis = 1))"
      ],
      "execution_count": 8,
      "outputs": [
        {
          "output_type": "stream",
          "name": "stdout",
          "text": [
            "    A   B   C   D\n",
            "0   0   0   0   0\n",
            "1  -8 -34  36 -21\n",
            "2 -16 -35  69 -62\n"
          ]
        }
      ]
    },
    {
      "cell_type": "markdown",
      "metadata": {
        "id": "uMFDBSGzYLug"
      },
      "source": [
        "# 2) Write python program:\n",
        "# A) Read a CSV file using pandas data frame.\n",
        "# B) Display the first 8 rows of the data.\n",
        "# C) Display the last 7 rows of the data.\n",
        "# D) Get and display the data types used in this data. Get and display the unique values available under a particular attribute."
      ]
    },
    {
      "cell_type": "code",
      "metadata": {
        "id": "0Leno1gAaam4"
      },
      "source": [
        "df = pd.read_csv ('cars.csv')"
      ],
      "execution_count": 19,
      "outputs": []
    },
    {
      "cell_type": "code",
      "metadata": {
        "colab": {
          "base_uri": "https://localhost:8080/"
        },
        "id": "JNxXQAa2agPI",
        "outputId": "1792c7a7-ee96-4b2c-8505-a7030807ecc1"
      },
      "source": [
        "result = df.head(8)\n",
        "print(result)"
      ],
      "execution_count": 20,
      "outputs": [
        {
          "output_type": "stream",
          "name": "stdout",
          "text": [
            "  Car;MPG;Cylinders;Displacement;Horsepower;Weight;Acceleration;Model;Origin\n",
            "0  STRING;DOUBLE;INT;DOUBLE;DOUBLE;DOUBLE;DOUBLE;...                        \n",
            "1  Chevrolet Chevelle Malibu;18.0;8;307.0;130.0;3...                        \n",
            "2  Buick Skylark 320;15.0;8;350.0;165.0;3693.;11....                        \n",
            "3  Plymouth Satellite;18.0;8;318.0;150.0;3436.;11...                        \n",
            "4  AMC Rebel SST;16.0;8;304.0;150.0;3433.;12.0;70;US                        \n",
            "5    Ford Torino;17.0;8;302.0;140.0;3449.;10.5;70;US                        \n",
            "6  Ford Galaxie 500;15.0;8;429.0;198.0;4341.;10.0...                        \n",
            "7  Chevrolet Impala;14.0;8;454.0;220.0;4354.;9.0;...                        \n"
          ]
        }
      ]
    },
    {
      "cell_type": "code",
      "metadata": {
        "colab": {
          "base_uri": "https://localhost:8080/"
        },
        "id": "7SRU74l7akLH",
        "outputId": "131225d6-e4a9-4406-a8c1-9fafe41f82d1"
      },
      "source": [
        "print(df.tail(7))"
      ],
      "execution_count": 21,
      "outputs": [
        {
          "output_type": "stream",
          "name": "stdout",
          "text": [
            "    Car;MPG;Cylinders;Displacement;Horsepower;Weight;Acceleration;Model;Origin\n",
            "400  Dodge Charger 2.2;36.0;4;135.0;84.00;2370.;13....                        \n",
            "401  Chevrolet Camaro;27.0;4;151.0;90.00;2950.;17.3...                        \n",
            "402  Ford Mustang GL;27.0;4;140.0;86.00;2790.;15.6;...                        \n",
            "403  Volkswagen Pickup;44.0;4;97.00;52.00;2130.;24....                        \n",
            "404  Dodge Rampage;32.0;4;135.0;84.00;2295.;11.6;82;US                        \n",
            "405    Ford Ranger;28.0;4;120.0;79.00;2625.;18.6;82;US                        \n",
            "406     Chevy S-10;31.0;4;119.0;82.00;2720.;19.4;82;US                        \n"
          ]
        }
      ]
    },
    {
      "cell_type": "code",
      "metadata": {
        "colab": {
          "base_uri": "https://localhost:8080/"
        },
        "id": "8Z_NFSf4arl4",
        "outputId": "051c966c-0de0-45fa-e1fa-2e142c4b3b1b"
      },
      "source": [
        "print(df.dtypes)"
      ],
      "execution_count": 22,
      "outputs": [
        {
          "output_type": "stream",
          "name": "stdout",
          "text": [
            "Car;MPG;Cylinders;Displacement;Horsepower;Weight;Acceleration;Model;Origin    object\n",
            "dtype: object\n"
          ]
        }
      ]
    },
    {
      "cell_type": "code",
      "metadata": {
        "colab": {
          "base_uri": "https://localhost:8080/"
        },
        "id": "itt5ryzVaykv",
        "outputId": "4e2f77cd-f73b-4204-df9a-eac77b953e3c"
      },
      "source": [
        "gapminder_csv_url ='http://bit.ly/2cLzoxH'\n",
        "record = pd.read_csv(gapminder_csv_url)  \n",
        "print(record['continent'].unique())"
      ],
      "execution_count": 27,
      "outputs": [
        {
          "output_type": "stream",
          "name": "stdout",
          "text": [
            "['Asia' 'Europe' 'Africa' 'Americas' 'Oceania']\n"
          ]
        }
      ]
    },
    {
      "cell_type": "markdown",
      "metadata": {
        "id": "VDG-c8yLZEtI"
      },
      "source": [
        "# 3) Write a python program:\n",
        "# A) Read a dataset (Ex, iris.csv) using pandas data frame.\n",
        "# B) Rename a column.\n",
        "# C) Filter the data using some condition (Ex. sepal length >7.2).\n",
        "# D) Find the mean and standard deviation value for each attribute."
      ]
    },
    {
      "cell_type": "code",
      "metadata": {
        "colab": {
          "base_uri": "https://localhost:8080/"
        },
        "id": "lrv05VGZZgzH",
        "outputId": "1d7a5242-7e72-4760-854c-aad0e676d545"
      },
      "source": [
        "df2 = pd.read_csv(\"iris.csv\")\n",
        "print(df2)"
      ],
      "execution_count": 28,
      "outputs": [
        {
          "output_type": "stream",
          "name": "stdout",
          "text": [
            "     sepal.length  sepal.width  petal.length  petal.width    variety\n",
            "0             5.1          3.5           1.4          0.2     Setosa\n",
            "1             4.9          3.0           1.4          0.2     Setosa\n",
            "2             4.7          3.2           1.3          0.2     Setosa\n",
            "3             4.6          3.1           1.5          0.2     Setosa\n",
            "4             5.0          3.6           1.4          0.2     Setosa\n",
            "..            ...          ...           ...          ...        ...\n",
            "145           6.7          3.0           5.2          2.3  Virginica\n",
            "146           6.3          2.5           5.0          1.9  Virginica\n",
            "147           6.5          3.0           5.2          2.0  Virginica\n",
            "148           6.2          3.4           5.4          2.3  Virginica\n",
            "149           5.9          3.0           5.1          1.8  Virginica\n",
            "\n",
            "[150 rows x 5 columns]\n"
          ]
        }
      ]
    },
    {
      "cell_type": "code",
      "metadata": {
        "colab": {
          "base_uri": "https://localhost:8080/"
        },
        "id": "DLidNunqb7m_",
        "outputId": "0a3a8689-515f-4b8c-a2be-34ba7d26feea"
      },
      "source": [
        "print(df2.rename(columns={'sepal.width': 'SEPAL WIDTH'}))"
      ],
      "execution_count": 29,
      "outputs": [
        {
          "output_type": "stream",
          "name": "stdout",
          "text": [
            "     sepal.length  SEPAL WIDTH  petal.length  petal.width    variety\n",
            "0             5.1          3.5           1.4          0.2     Setosa\n",
            "1             4.9          3.0           1.4          0.2     Setosa\n",
            "2             4.7          3.2           1.3          0.2     Setosa\n",
            "3             4.6          3.1           1.5          0.2     Setosa\n",
            "4             5.0          3.6           1.4          0.2     Setosa\n",
            "..            ...          ...           ...          ...        ...\n",
            "145           6.7          3.0           5.2          2.3  Virginica\n",
            "146           6.3          2.5           5.0          1.9  Virginica\n",
            "147           6.5          3.0           5.2          2.0  Virginica\n",
            "148           6.2          3.4           5.4          2.3  Virginica\n",
            "149           5.9          3.0           5.1          1.8  Virginica\n",
            "\n",
            "[150 rows x 5 columns]\n"
          ]
        }
      ]
    },
    {
      "cell_type": "code",
      "metadata": {
        "colab": {
          "base_uri": "https://localhost:8080/",
          "height": 295
        },
        "id": "6LhMNc5FcFTw",
        "outputId": "4dc3adc7-2733-48ee-8055-e76621d9d1aa"
      },
      "source": [
        "df2[df2['sepal.length'] > 7.2]"
      ],
      "execution_count": 30,
      "outputs": [
        {
          "output_type": "execute_result",
          "data": {
            "text/html": [
              "<div>\n",
              "<style scoped>\n",
              "    .dataframe tbody tr th:only-of-type {\n",
              "        vertical-align: middle;\n",
              "    }\n",
              "\n",
              "    .dataframe tbody tr th {\n",
              "        vertical-align: top;\n",
              "    }\n",
              "\n",
              "    .dataframe thead th {\n",
              "        text-align: right;\n",
              "    }\n",
              "</style>\n",
              "<table border=\"1\" class=\"dataframe\">\n",
              "  <thead>\n",
              "    <tr style=\"text-align: right;\">\n",
              "      <th></th>\n",
              "      <th>sepal.length</th>\n",
              "      <th>sepal.width</th>\n",
              "      <th>petal.length</th>\n",
              "      <th>petal.width</th>\n",
              "      <th>variety</th>\n",
              "    </tr>\n",
              "  </thead>\n",
              "  <tbody>\n",
              "    <tr>\n",
              "      <th>105</th>\n",
              "      <td>7.6</td>\n",
              "      <td>3.0</td>\n",
              "      <td>6.6</td>\n",
              "      <td>2.1</td>\n",
              "      <td>Virginica</td>\n",
              "    </tr>\n",
              "    <tr>\n",
              "      <th>107</th>\n",
              "      <td>7.3</td>\n",
              "      <td>2.9</td>\n",
              "      <td>6.3</td>\n",
              "      <td>1.8</td>\n",
              "      <td>Virginica</td>\n",
              "    </tr>\n",
              "    <tr>\n",
              "      <th>117</th>\n",
              "      <td>7.7</td>\n",
              "      <td>3.8</td>\n",
              "      <td>6.7</td>\n",
              "      <td>2.2</td>\n",
              "      <td>Virginica</td>\n",
              "    </tr>\n",
              "    <tr>\n",
              "      <th>118</th>\n",
              "      <td>7.7</td>\n",
              "      <td>2.6</td>\n",
              "      <td>6.9</td>\n",
              "      <td>2.3</td>\n",
              "      <td>Virginica</td>\n",
              "    </tr>\n",
              "    <tr>\n",
              "      <th>122</th>\n",
              "      <td>7.7</td>\n",
              "      <td>2.8</td>\n",
              "      <td>6.7</td>\n",
              "      <td>2.0</td>\n",
              "      <td>Virginica</td>\n",
              "    </tr>\n",
              "    <tr>\n",
              "      <th>130</th>\n",
              "      <td>7.4</td>\n",
              "      <td>2.8</td>\n",
              "      <td>6.1</td>\n",
              "      <td>1.9</td>\n",
              "      <td>Virginica</td>\n",
              "    </tr>\n",
              "    <tr>\n",
              "      <th>131</th>\n",
              "      <td>7.9</td>\n",
              "      <td>3.8</td>\n",
              "      <td>6.4</td>\n",
              "      <td>2.0</td>\n",
              "      <td>Virginica</td>\n",
              "    </tr>\n",
              "    <tr>\n",
              "      <th>135</th>\n",
              "      <td>7.7</td>\n",
              "      <td>3.0</td>\n",
              "      <td>6.1</td>\n",
              "      <td>2.3</td>\n",
              "      <td>Virginica</td>\n",
              "    </tr>\n",
              "  </tbody>\n",
              "</table>\n",
              "</div>"
            ],
            "text/plain": [
              "     sepal.length  sepal.width  petal.length  petal.width    variety\n",
              "105           7.6          3.0           6.6          2.1  Virginica\n",
              "107           7.3          2.9           6.3          1.8  Virginica\n",
              "117           7.7          3.8           6.7          2.2  Virginica\n",
              "118           7.7          2.6           6.9          2.3  Virginica\n",
              "122           7.7          2.8           6.7          2.0  Virginica\n",
              "130           7.4          2.8           6.1          1.9  Virginica\n",
              "131           7.9          3.8           6.4          2.0  Virginica\n",
              "135           7.7          3.0           6.1          2.3  Virginica"
            ]
          },
          "metadata": {},
          "execution_count": 30
        }
      ]
    },
    {
      "cell_type": "code",
      "metadata": {
        "colab": {
          "base_uri": "https://localhost:8080/"
        },
        "id": "QuTGUDtqcKMH",
        "outputId": "8c716ff9-4c90-4b44-fd0d-88686516dc72"
      },
      "source": [
        "df2.std(axis = 1, skipna = True)"
      ],
      "execution_count": 31,
      "outputs": [
        {
          "output_type": "execute_result",
          "data": {
            "text/plain": [
              "0      2.179449\n",
              "1      2.036950\n",
              "2      1.997498\n",
              "3      1.912241\n",
              "4      2.156386\n",
              "         ...   \n",
              "145    2.021551\n",
              "146    2.075853\n",
              "147    2.046745\n",
              "148    1.791415\n",
              "149    1.884144\n",
              "Length: 150, dtype: float64"
            ]
          },
          "metadata": {},
          "execution_count": 31
        }
      ]
    },
    {
      "cell_type": "code",
      "metadata": {
        "colab": {
          "base_uri": "https://localhost:8080/"
        },
        "id": "tuk6l_MJcPzo",
        "outputId": "f62dd370-e9e0-4b90-ae27-61807606c9b9"
      },
      "source": [
        "df2.mean(axis = 0)"
      ],
      "execution_count": 32,
      "outputs": [
        {
          "output_type": "execute_result",
          "data": {
            "text/plain": [
              "sepal.length    5.843333\n",
              "sepal.width     3.057333\n",
              "petal.length    3.758000\n",
              "petal.width     1.199333\n",
              "dtype: float64"
            ]
          },
          "metadata": {},
          "execution_count": 32
        }
      ]
    },
    {
      "cell_type": "markdown",
      "metadata": {
        "id": "MHnnZaLZcYHA"
      },
      "source": [
        "# 4) Write a python program:\n",
        "# A) Read a dataset (Ex, iris.csv) data using pandas data frame.\n",
        "# B) Next, check if there exist any duplicate values.\n",
        "# C) If exist any duplicate values then remove the duplicate values."
      ]
    },
    {
      "cell_type": "code",
      "metadata": {
        "colab": {
          "base_uri": "https://localhost:8080/"
        },
        "id": "g9w-WuzAcnH4",
        "outputId": "f7e6ee3c-cadf-4900-cb3d-5a1843e39019"
      },
      "source": [
        "df2 = pd.read_csv(\"iris.csv\")\n",
        "print(df2)"
      ],
      "execution_count": 33,
      "outputs": [
        {
          "output_type": "stream",
          "name": "stdout",
          "text": [
            "     sepal.length  sepal.width  petal.length  petal.width    variety\n",
            "0             5.1          3.5           1.4          0.2     Setosa\n",
            "1             4.9          3.0           1.4          0.2     Setosa\n",
            "2             4.7          3.2           1.3          0.2     Setosa\n",
            "3             4.6          3.1           1.5          0.2     Setosa\n",
            "4             5.0          3.6           1.4          0.2     Setosa\n",
            "..            ...          ...           ...          ...        ...\n",
            "145           6.7          3.0           5.2          2.3  Virginica\n",
            "146           6.3          2.5           5.0          1.9  Virginica\n",
            "147           6.5          3.0           5.2          2.0  Virginica\n",
            "148           6.2          3.4           5.4          2.3  Virginica\n",
            "149           5.9          3.0           5.1          1.8  Virginica\n",
            "\n",
            "[150 rows x 5 columns]\n"
          ]
        }
      ]
    },
    {
      "cell_type": "code",
      "metadata": {
        "colab": {
          "base_uri": "https://localhost:8080/"
        },
        "id": "cXCby24Xc1zf",
        "outputId": "c697fb93-a3f4-4800-e51c-78a93bb1d71f"
      },
      "source": [
        "duplicate = df2[df2.duplicated()]\n",
        "print(duplicate)"
      ],
      "execution_count": 34,
      "outputs": [
        {
          "output_type": "stream",
          "name": "stdout",
          "text": [
            "     sepal.length  sepal.width  petal.length  petal.width    variety\n",
            "142           5.8          2.7           5.1          1.9  Virginica\n"
          ]
        }
      ]
    },
    {
      "cell_type": "code",
      "metadata": {
        "colab": {
          "base_uri": "https://localhost:8080/",
          "height": 417
        },
        "id": "BMgLq_Soc_NY",
        "outputId": "2570815e-3a19-4a5b-f886-8398eea7d880"
      },
      "source": [
        "df2.drop_duplicates(keep=False,inplace=True)\n",
        "df2"
      ],
      "execution_count": 36,
      "outputs": [
        {
          "output_type": "execute_result",
          "data": {
            "text/html": [
              "<div>\n",
              "<style scoped>\n",
              "    .dataframe tbody tr th:only-of-type {\n",
              "        vertical-align: middle;\n",
              "    }\n",
              "\n",
              "    .dataframe tbody tr th {\n",
              "        vertical-align: top;\n",
              "    }\n",
              "\n",
              "    .dataframe thead th {\n",
              "        text-align: right;\n",
              "    }\n",
              "</style>\n",
              "<table border=\"1\" class=\"dataframe\">\n",
              "  <thead>\n",
              "    <tr style=\"text-align: right;\">\n",
              "      <th></th>\n",
              "      <th>sepal.length</th>\n",
              "      <th>sepal.width</th>\n",
              "      <th>petal.length</th>\n",
              "      <th>petal.width</th>\n",
              "      <th>variety</th>\n",
              "    </tr>\n",
              "  </thead>\n",
              "  <tbody>\n",
              "    <tr>\n",
              "      <th>0</th>\n",
              "      <td>5.1</td>\n",
              "      <td>3.5</td>\n",
              "      <td>1.4</td>\n",
              "      <td>0.2</td>\n",
              "      <td>Setosa</td>\n",
              "    </tr>\n",
              "    <tr>\n",
              "      <th>1</th>\n",
              "      <td>4.9</td>\n",
              "      <td>3.0</td>\n",
              "      <td>1.4</td>\n",
              "      <td>0.2</td>\n",
              "      <td>Setosa</td>\n",
              "    </tr>\n",
              "    <tr>\n",
              "      <th>2</th>\n",
              "      <td>4.7</td>\n",
              "      <td>3.2</td>\n",
              "      <td>1.3</td>\n",
              "      <td>0.2</td>\n",
              "      <td>Setosa</td>\n",
              "    </tr>\n",
              "    <tr>\n",
              "      <th>3</th>\n",
              "      <td>4.6</td>\n",
              "      <td>3.1</td>\n",
              "      <td>1.5</td>\n",
              "      <td>0.2</td>\n",
              "      <td>Setosa</td>\n",
              "    </tr>\n",
              "    <tr>\n",
              "      <th>4</th>\n",
              "      <td>5.0</td>\n",
              "      <td>3.6</td>\n",
              "      <td>1.4</td>\n",
              "      <td>0.2</td>\n",
              "      <td>Setosa</td>\n",
              "    </tr>\n",
              "    <tr>\n",
              "      <th>...</th>\n",
              "      <td>...</td>\n",
              "      <td>...</td>\n",
              "      <td>...</td>\n",
              "      <td>...</td>\n",
              "      <td>...</td>\n",
              "    </tr>\n",
              "    <tr>\n",
              "      <th>145</th>\n",
              "      <td>6.7</td>\n",
              "      <td>3.0</td>\n",
              "      <td>5.2</td>\n",
              "      <td>2.3</td>\n",
              "      <td>Virginica</td>\n",
              "    </tr>\n",
              "    <tr>\n",
              "      <th>146</th>\n",
              "      <td>6.3</td>\n",
              "      <td>2.5</td>\n",
              "      <td>5.0</td>\n",
              "      <td>1.9</td>\n",
              "      <td>Virginica</td>\n",
              "    </tr>\n",
              "    <tr>\n",
              "      <th>147</th>\n",
              "      <td>6.5</td>\n",
              "      <td>3.0</td>\n",
              "      <td>5.2</td>\n",
              "      <td>2.0</td>\n",
              "      <td>Virginica</td>\n",
              "    </tr>\n",
              "    <tr>\n",
              "      <th>148</th>\n",
              "      <td>6.2</td>\n",
              "      <td>3.4</td>\n",
              "      <td>5.4</td>\n",
              "      <td>2.3</td>\n",
              "      <td>Virginica</td>\n",
              "    </tr>\n",
              "    <tr>\n",
              "      <th>149</th>\n",
              "      <td>5.9</td>\n",
              "      <td>3.0</td>\n",
              "      <td>5.1</td>\n",
              "      <td>1.8</td>\n",
              "      <td>Virginica</td>\n",
              "    </tr>\n",
              "  </tbody>\n",
              "</table>\n",
              "<p>148 rows × 5 columns</p>\n",
              "</div>"
            ],
            "text/plain": [
              "     sepal.length  sepal.width  petal.length  petal.width    variety\n",
              "0             5.1          3.5           1.4          0.2     Setosa\n",
              "1             4.9          3.0           1.4          0.2     Setosa\n",
              "2             4.7          3.2           1.3          0.2     Setosa\n",
              "3             4.6          3.1           1.5          0.2     Setosa\n",
              "4             5.0          3.6           1.4          0.2     Setosa\n",
              "..            ...          ...           ...          ...        ...\n",
              "145           6.7          3.0           5.2          2.3  Virginica\n",
              "146           6.3          2.5           5.0          1.9  Virginica\n",
              "147           6.5          3.0           5.2          2.0  Virginica\n",
              "148           6.2          3.4           5.4          2.3  Virginica\n",
              "149           5.9          3.0           5.1          1.8  Virginica\n",
              "\n",
              "[148 rows x 5 columns]"
            ]
          },
          "metadata": {},
          "execution_count": 36
        }
      ]
    },
    {
      "cell_type": "markdown",
      "metadata": {
        "id": "_AK7RrmrdIMD"
      },
      "source": [
        "# 5) Show using a program how to group data in python using pandas."
      ]
    },
    {
      "cell_type": "code",
      "metadata": {
        "colab": {
          "base_uri": "https://localhost:8080/",
          "height": 417
        },
        "id": "eUbDXaeodSmr",
        "outputId": "c6c1550d-eac9-4f22-e088-78f030136525"
      },
      "source": [
        "df3 = pd.read_csv(\"nba.csv\")\n",
        "df3"
      ],
      "execution_count": 38,
      "outputs": [
        {
          "output_type": "execute_result",
          "data": {
            "text/html": [
              "<div>\n",
              "<style scoped>\n",
              "    .dataframe tbody tr th:only-of-type {\n",
              "        vertical-align: middle;\n",
              "    }\n",
              "\n",
              "    .dataframe tbody tr th {\n",
              "        vertical-align: top;\n",
              "    }\n",
              "\n",
              "    .dataframe thead th {\n",
              "        text-align: right;\n",
              "    }\n",
              "</style>\n",
              "<table border=\"1\" class=\"dataframe\">\n",
              "  <thead>\n",
              "    <tr style=\"text-align: right;\">\n",
              "      <th></th>\n",
              "      <th>Name</th>\n",
              "      <th>Team</th>\n",
              "      <th>Number</th>\n",
              "      <th>Position</th>\n",
              "      <th>Age</th>\n",
              "      <th>Height</th>\n",
              "      <th>Weight</th>\n",
              "      <th>College</th>\n",
              "      <th>Salary</th>\n",
              "    </tr>\n",
              "  </thead>\n",
              "  <tbody>\n",
              "    <tr>\n",
              "      <th>0</th>\n",
              "      <td>Avery Bradley</td>\n",
              "      <td>Boston Celtics</td>\n",
              "      <td>0.0</td>\n",
              "      <td>PG</td>\n",
              "      <td>25.0</td>\n",
              "      <td>6-2</td>\n",
              "      <td>180.0</td>\n",
              "      <td>Texas</td>\n",
              "      <td>7730337.0</td>\n",
              "    </tr>\n",
              "    <tr>\n",
              "      <th>1</th>\n",
              "      <td>Jae Crowder</td>\n",
              "      <td>Boston Celtics</td>\n",
              "      <td>99.0</td>\n",
              "      <td>SF</td>\n",
              "      <td>25.0</td>\n",
              "      <td>6-6</td>\n",
              "      <td>235.0</td>\n",
              "      <td>Marquette</td>\n",
              "      <td>6796117.0</td>\n",
              "    </tr>\n",
              "    <tr>\n",
              "      <th>2</th>\n",
              "      <td>John Holland</td>\n",
              "      <td>Boston Celtics</td>\n",
              "      <td>30.0</td>\n",
              "      <td>SG</td>\n",
              "      <td>27.0</td>\n",
              "      <td>6-5</td>\n",
              "      <td>205.0</td>\n",
              "      <td>Boston University</td>\n",
              "      <td>NaN</td>\n",
              "    </tr>\n",
              "    <tr>\n",
              "      <th>3</th>\n",
              "      <td>R.J. Hunter</td>\n",
              "      <td>Boston Celtics</td>\n",
              "      <td>28.0</td>\n",
              "      <td>SG</td>\n",
              "      <td>22.0</td>\n",
              "      <td>6-5</td>\n",
              "      <td>185.0</td>\n",
              "      <td>Georgia State</td>\n",
              "      <td>1148640.0</td>\n",
              "    </tr>\n",
              "    <tr>\n",
              "      <th>4</th>\n",
              "      <td>Jonas Jerebko</td>\n",
              "      <td>Boston Celtics</td>\n",
              "      <td>8.0</td>\n",
              "      <td>PF</td>\n",
              "      <td>29.0</td>\n",
              "      <td>6-10</td>\n",
              "      <td>231.0</td>\n",
              "      <td>NaN</td>\n",
              "      <td>5000000.0</td>\n",
              "    </tr>\n",
              "    <tr>\n",
              "      <th>...</th>\n",
              "      <td>...</td>\n",
              "      <td>...</td>\n",
              "      <td>...</td>\n",
              "      <td>...</td>\n",
              "      <td>...</td>\n",
              "      <td>...</td>\n",
              "      <td>...</td>\n",
              "      <td>...</td>\n",
              "      <td>...</td>\n",
              "    </tr>\n",
              "    <tr>\n",
              "      <th>453</th>\n",
              "      <td>Shelvin Mack</td>\n",
              "      <td>Utah Jazz</td>\n",
              "      <td>8.0</td>\n",
              "      <td>PG</td>\n",
              "      <td>26.0</td>\n",
              "      <td>6-3</td>\n",
              "      <td>203.0</td>\n",
              "      <td>Butler</td>\n",
              "      <td>2433333.0</td>\n",
              "    </tr>\n",
              "    <tr>\n",
              "      <th>454</th>\n",
              "      <td>Raul Neto</td>\n",
              "      <td>Utah Jazz</td>\n",
              "      <td>25.0</td>\n",
              "      <td>PG</td>\n",
              "      <td>24.0</td>\n",
              "      <td>6-1</td>\n",
              "      <td>179.0</td>\n",
              "      <td>NaN</td>\n",
              "      <td>900000.0</td>\n",
              "    </tr>\n",
              "    <tr>\n",
              "      <th>455</th>\n",
              "      <td>Tibor Pleiss</td>\n",
              "      <td>Utah Jazz</td>\n",
              "      <td>21.0</td>\n",
              "      <td>C</td>\n",
              "      <td>26.0</td>\n",
              "      <td>7-3</td>\n",
              "      <td>256.0</td>\n",
              "      <td>NaN</td>\n",
              "      <td>2900000.0</td>\n",
              "    </tr>\n",
              "    <tr>\n",
              "      <th>456</th>\n",
              "      <td>Jeff Withey</td>\n",
              "      <td>Utah Jazz</td>\n",
              "      <td>24.0</td>\n",
              "      <td>C</td>\n",
              "      <td>26.0</td>\n",
              "      <td>7-0</td>\n",
              "      <td>231.0</td>\n",
              "      <td>Kansas</td>\n",
              "      <td>947276.0</td>\n",
              "    </tr>\n",
              "    <tr>\n",
              "      <th>457</th>\n",
              "      <td>NaN</td>\n",
              "      <td>NaN</td>\n",
              "      <td>NaN</td>\n",
              "      <td>NaN</td>\n",
              "      <td>NaN</td>\n",
              "      <td>NaN</td>\n",
              "      <td>NaN</td>\n",
              "      <td>NaN</td>\n",
              "      <td>NaN</td>\n",
              "    </tr>\n",
              "  </tbody>\n",
              "</table>\n",
              "<p>458 rows × 9 columns</p>\n",
              "</div>"
            ],
            "text/plain": [
              "              Name            Team  ...            College     Salary\n",
              "0    Avery Bradley  Boston Celtics  ...              Texas  7730337.0\n",
              "1      Jae Crowder  Boston Celtics  ...          Marquette  6796117.0\n",
              "2     John Holland  Boston Celtics  ...  Boston University        NaN\n",
              "3      R.J. Hunter  Boston Celtics  ...      Georgia State  1148640.0\n",
              "4    Jonas Jerebko  Boston Celtics  ...                NaN  5000000.0\n",
              "..             ...             ...  ...                ...        ...\n",
              "453   Shelvin Mack       Utah Jazz  ...             Butler  2433333.0\n",
              "454      Raul Neto       Utah Jazz  ...                NaN   900000.0\n",
              "455   Tibor Pleiss       Utah Jazz  ...                NaN  2900000.0\n",
              "456    Jeff Withey       Utah Jazz  ...             Kansas   947276.0\n",
              "457            NaN             NaN  ...                NaN        NaN\n",
              "\n",
              "[458 rows x 9 columns]"
            ]
          },
          "metadata": {},
          "execution_count": 38
        }
      ]
    },
    {
      "cell_type": "code",
      "metadata": {
        "colab": {
          "base_uri": "https://localhost:8080/",
          "height": 1000
        },
        "id": "UB5nvyZRduK4",
        "outputId": "0027799f-c941-437d-f778-5646ee73056a"
      },
      "source": [
        "gk = df3.groupby('Team')\n",
        "gk.first()"
      ],
      "execution_count": 39,
      "outputs": [
        {
          "output_type": "execute_result",
          "data": {
            "text/html": [
              "<div>\n",
              "<style scoped>\n",
              "    .dataframe tbody tr th:only-of-type {\n",
              "        vertical-align: middle;\n",
              "    }\n",
              "\n",
              "    .dataframe tbody tr th {\n",
              "        vertical-align: top;\n",
              "    }\n",
              "\n",
              "    .dataframe thead th {\n",
              "        text-align: right;\n",
              "    }\n",
              "</style>\n",
              "<table border=\"1\" class=\"dataframe\">\n",
              "  <thead>\n",
              "    <tr style=\"text-align: right;\">\n",
              "      <th></th>\n",
              "      <th>Name</th>\n",
              "      <th>Number</th>\n",
              "      <th>Position</th>\n",
              "      <th>Age</th>\n",
              "      <th>Height</th>\n",
              "      <th>Weight</th>\n",
              "      <th>College</th>\n",
              "      <th>Salary</th>\n",
              "    </tr>\n",
              "    <tr>\n",
              "      <th>Team</th>\n",
              "      <th></th>\n",
              "      <th></th>\n",
              "      <th></th>\n",
              "      <th></th>\n",
              "      <th></th>\n",
              "      <th></th>\n",
              "      <th></th>\n",
              "      <th></th>\n",
              "    </tr>\n",
              "  </thead>\n",
              "  <tbody>\n",
              "    <tr>\n",
              "      <th>Atlanta Hawks</th>\n",
              "      <td>Kent Bazemore</td>\n",
              "      <td>24.0</td>\n",
              "      <td>SF</td>\n",
              "      <td>26.0</td>\n",
              "      <td>6-5</td>\n",
              "      <td>201.0</td>\n",
              "      <td>Old Dominion</td>\n",
              "      <td>2000000.0</td>\n",
              "    </tr>\n",
              "    <tr>\n",
              "      <th>Boston Celtics</th>\n",
              "      <td>Avery Bradley</td>\n",
              "      <td>0.0</td>\n",
              "      <td>PG</td>\n",
              "      <td>25.0</td>\n",
              "      <td>6-2</td>\n",
              "      <td>180.0</td>\n",
              "      <td>Texas</td>\n",
              "      <td>7730337.0</td>\n",
              "    </tr>\n",
              "    <tr>\n",
              "      <th>Brooklyn Nets</th>\n",
              "      <td>Bojan Bogdanovic</td>\n",
              "      <td>44.0</td>\n",
              "      <td>SG</td>\n",
              "      <td>27.0</td>\n",
              "      <td>6-8</td>\n",
              "      <td>216.0</td>\n",
              "      <td>Oklahoma State</td>\n",
              "      <td>3425510.0</td>\n",
              "    </tr>\n",
              "    <tr>\n",
              "      <th>Charlotte Hornets</th>\n",
              "      <td>Nicolas Batum</td>\n",
              "      <td>5.0</td>\n",
              "      <td>SG</td>\n",
              "      <td>27.0</td>\n",
              "      <td>6-8</td>\n",
              "      <td>200.0</td>\n",
              "      <td>Virginia Commonwealth</td>\n",
              "      <td>13125306.0</td>\n",
              "    </tr>\n",
              "    <tr>\n",
              "      <th>Chicago Bulls</th>\n",
              "      <td>Cameron Bairstow</td>\n",
              "      <td>41.0</td>\n",
              "      <td>PF</td>\n",
              "      <td>25.0</td>\n",
              "      <td>6-9</td>\n",
              "      <td>250.0</td>\n",
              "      <td>New Mexico</td>\n",
              "      <td>845059.0</td>\n",
              "    </tr>\n",
              "    <tr>\n",
              "      <th>Cleveland Cavaliers</th>\n",
              "      <td>Matthew Dellavedova</td>\n",
              "      <td>8.0</td>\n",
              "      <td>PG</td>\n",
              "      <td>25.0</td>\n",
              "      <td>6-4</td>\n",
              "      <td>198.0</td>\n",
              "      <td>Saint Mary's</td>\n",
              "      <td>1147276.0</td>\n",
              "    </tr>\n",
              "    <tr>\n",
              "      <th>Dallas Mavericks</th>\n",
              "      <td>Justin Anderson</td>\n",
              "      <td>1.0</td>\n",
              "      <td>SG</td>\n",
              "      <td>22.0</td>\n",
              "      <td>6-6</td>\n",
              "      <td>228.0</td>\n",
              "      <td>Virginia</td>\n",
              "      <td>1449000.0</td>\n",
              "    </tr>\n",
              "    <tr>\n",
              "      <th>Denver Nuggets</th>\n",
              "      <td>Darrell Arthur</td>\n",
              "      <td>0.0</td>\n",
              "      <td>PF</td>\n",
              "      <td>28.0</td>\n",
              "      <td>6-9</td>\n",
              "      <td>235.0</td>\n",
              "      <td>Kansas</td>\n",
              "      <td>2814000.0</td>\n",
              "    </tr>\n",
              "    <tr>\n",
              "      <th>Detroit Pistons</th>\n",
              "      <td>Joel Anthony</td>\n",
              "      <td>50.0</td>\n",
              "      <td>C</td>\n",
              "      <td>33.0</td>\n",
              "      <td>6-9</td>\n",
              "      <td>245.0</td>\n",
              "      <td>UNLV</td>\n",
              "      <td>2500000.0</td>\n",
              "    </tr>\n",
              "    <tr>\n",
              "      <th>Golden State Warriors</th>\n",
              "      <td>Leandro Barbosa</td>\n",
              "      <td>19.0</td>\n",
              "      <td>SG</td>\n",
              "      <td>33.0</td>\n",
              "      <td>6-3</td>\n",
              "      <td>194.0</td>\n",
              "      <td>North Carolina</td>\n",
              "      <td>2500000.0</td>\n",
              "    </tr>\n",
              "    <tr>\n",
              "      <th>Houston Rockets</th>\n",
              "      <td>Trevor Ariza</td>\n",
              "      <td>1.0</td>\n",
              "      <td>SF</td>\n",
              "      <td>30.0</td>\n",
              "      <td>6-8</td>\n",
              "      <td>215.0</td>\n",
              "      <td>UCLA</td>\n",
              "      <td>8193030.0</td>\n",
              "    </tr>\n",
              "    <tr>\n",
              "      <th>Indiana Pacers</th>\n",
              "      <td>Lavoy Allen</td>\n",
              "      <td>5.0</td>\n",
              "      <td>PF</td>\n",
              "      <td>27.0</td>\n",
              "      <td>6-9</td>\n",
              "      <td>255.0</td>\n",
              "      <td>Temple</td>\n",
              "      <td>4050000.0</td>\n",
              "    </tr>\n",
              "    <tr>\n",
              "      <th>Los Angeles Clippers</th>\n",
              "      <td>Cole Aldrich</td>\n",
              "      <td>45.0</td>\n",
              "      <td>C</td>\n",
              "      <td>27.0</td>\n",
              "      <td>6-11</td>\n",
              "      <td>250.0</td>\n",
              "      <td>Kansas</td>\n",
              "      <td>1100602.0</td>\n",
              "    </tr>\n",
              "    <tr>\n",
              "      <th>Los Angeles Lakers</th>\n",
              "      <td>Brandon Bass</td>\n",
              "      <td>2.0</td>\n",
              "      <td>PF</td>\n",
              "      <td>31.0</td>\n",
              "      <td>6-8</td>\n",
              "      <td>250.0</td>\n",
              "      <td>LSU</td>\n",
              "      <td>3000000.0</td>\n",
              "    </tr>\n",
              "    <tr>\n",
              "      <th>Memphis Grizzlies</th>\n",
              "      <td>Jordan Adams</td>\n",
              "      <td>3.0</td>\n",
              "      <td>SG</td>\n",
              "      <td>21.0</td>\n",
              "      <td>6-5</td>\n",
              "      <td>209.0</td>\n",
              "      <td>UCLA</td>\n",
              "      <td>1404600.0</td>\n",
              "    </tr>\n",
              "    <tr>\n",
              "      <th>Miami Heat</th>\n",
              "      <td>Chris Bosh</td>\n",
              "      <td>1.0</td>\n",
              "      <td>PF</td>\n",
              "      <td>32.0</td>\n",
              "      <td>6-11</td>\n",
              "      <td>235.0</td>\n",
              "      <td>Georgia Tech</td>\n",
              "      <td>22192730.0</td>\n",
              "    </tr>\n",
              "    <tr>\n",
              "      <th>Milwaukee Bucks</th>\n",
              "      <td>Giannis Antetokounmpo</td>\n",
              "      <td>34.0</td>\n",
              "      <td>SF</td>\n",
              "      <td>21.0</td>\n",
              "      <td>6-11</td>\n",
              "      <td>222.0</td>\n",
              "      <td>Arizona</td>\n",
              "      <td>1953960.0</td>\n",
              "    </tr>\n",
              "    <tr>\n",
              "      <th>Minnesota Timberwolves</th>\n",
              "      <td>Nemanja Bjelica</td>\n",
              "      <td>88.0</td>\n",
              "      <td>PF</td>\n",
              "      <td>28.0</td>\n",
              "      <td>6-10</td>\n",
              "      <td>240.0</td>\n",
              "      <td>Louisville</td>\n",
              "      <td>3950001.0</td>\n",
              "    </tr>\n",
              "    <tr>\n",
              "      <th>New Orleans Pelicans</th>\n",
              "      <td>Alexis Ajinca</td>\n",
              "      <td>42.0</td>\n",
              "      <td>C</td>\n",
              "      <td>28.0</td>\n",
              "      <td>7-2</td>\n",
              "      <td>248.0</td>\n",
              "      <td>California</td>\n",
              "      <td>4389607.0</td>\n",
              "    </tr>\n",
              "    <tr>\n",
              "      <th>New York Knicks</th>\n",
              "      <td>Arron Afflalo</td>\n",
              "      <td>4.0</td>\n",
              "      <td>SG</td>\n",
              "      <td>30.0</td>\n",
              "      <td>6-5</td>\n",
              "      <td>210.0</td>\n",
              "      <td>UCLA</td>\n",
              "      <td>8000000.0</td>\n",
              "    </tr>\n",
              "    <tr>\n",
              "      <th>Oklahoma City Thunder</th>\n",
              "      <td>Steven Adams</td>\n",
              "      <td>12.0</td>\n",
              "      <td>C</td>\n",
              "      <td>22.0</td>\n",
              "      <td>7-0</td>\n",
              "      <td>255.0</td>\n",
              "      <td>Pittsburgh</td>\n",
              "      <td>2279040.0</td>\n",
              "    </tr>\n",
              "    <tr>\n",
              "      <th>Orlando Magic</th>\n",
              "      <td>Dewayne Dedmon</td>\n",
              "      <td>3.0</td>\n",
              "      <td>C</td>\n",
              "      <td>26.0</td>\n",
              "      <td>7-0</td>\n",
              "      <td>245.0</td>\n",
              "      <td>USC</td>\n",
              "      <td>947276.0</td>\n",
              "    </tr>\n",
              "    <tr>\n",
              "      <th>Philadelphia 76ers</th>\n",
              "      <td>Elton Brand</td>\n",
              "      <td>42.0</td>\n",
              "      <td>PF</td>\n",
              "      <td>37.0</td>\n",
              "      <td>6-9</td>\n",
              "      <td>254.0</td>\n",
              "      <td>Duke</td>\n",
              "      <td>947276.0</td>\n",
              "    </tr>\n",
              "    <tr>\n",
              "      <th>Phoenix Suns</th>\n",
              "      <td>Eric Bledsoe</td>\n",
              "      <td>2.0</td>\n",
              "      <td>PG</td>\n",
              "      <td>26.0</td>\n",
              "      <td>6-1</td>\n",
              "      <td>190.0</td>\n",
              "      <td>Kentucky</td>\n",
              "      <td>13500000.0</td>\n",
              "    </tr>\n",
              "    <tr>\n",
              "      <th>Portland Trail Blazers</th>\n",
              "      <td>Cliff Alexander</td>\n",
              "      <td>34.0</td>\n",
              "      <td>PF</td>\n",
              "      <td>20.0</td>\n",
              "      <td>6-8</td>\n",
              "      <td>240.0</td>\n",
              "      <td>Kansas</td>\n",
              "      <td>525093.0</td>\n",
              "    </tr>\n",
              "    <tr>\n",
              "      <th>Sacramento Kings</th>\n",
              "      <td>Quincy Acy</td>\n",
              "      <td>13.0</td>\n",
              "      <td>SF</td>\n",
              "      <td>25.0</td>\n",
              "      <td>6-7</td>\n",
              "      <td>240.0</td>\n",
              "      <td>Baylor</td>\n",
              "      <td>981348.0</td>\n",
              "    </tr>\n",
              "    <tr>\n",
              "      <th>San Antonio Spurs</th>\n",
              "      <td>LaMarcus Aldridge</td>\n",
              "      <td>12.0</td>\n",
              "      <td>PF</td>\n",
              "      <td>30.0</td>\n",
              "      <td>6-11</td>\n",
              "      <td>240.0</td>\n",
              "      <td>Texas</td>\n",
              "      <td>19689000.0</td>\n",
              "    </tr>\n",
              "    <tr>\n",
              "      <th>Toronto Raptors</th>\n",
              "      <td>Bismack Biyombo</td>\n",
              "      <td>8.0</td>\n",
              "      <td>C</td>\n",
              "      <td>23.0</td>\n",
              "      <td>6-9</td>\n",
              "      <td>245.0</td>\n",
              "      <td>Missouri</td>\n",
              "      <td>2814000.0</td>\n",
              "    </tr>\n",
              "    <tr>\n",
              "      <th>Utah Jazz</th>\n",
              "      <td>Trevor Booker</td>\n",
              "      <td>33.0</td>\n",
              "      <td>PF</td>\n",
              "      <td>28.0</td>\n",
              "      <td>6-8</td>\n",
              "      <td>228.0</td>\n",
              "      <td>Clemson</td>\n",
              "      <td>4775000.0</td>\n",
              "    </tr>\n",
              "    <tr>\n",
              "      <th>Washington Wizards</th>\n",
              "      <td>Alan Anderson</td>\n",
              "      <td>6.0</td>\n",
              "      <td>SG</td>\n",
              "      <td>33.0</td>\n",
              "      <td>6-6</td>\n",
              "      <td>220.0</td>\n",
              "      <td>Michigan State</td>\n",
              "      <td>4000000.0</td>\n",
              "    </tr>\n",
              "  </tbody>\n",
              "</table>\n",
              "</div>"
            ],
            "text/plain": [
              "                                         Name  ...      Salary\n",
              "Team                                           ...            \n",
              "Atlanta Hawks                   Kent Bazemore  ...   2000000.0\n",
              "Boston Celtics                  Avery Bradley  ...   7730337.0\n",
              "Brooklyn Nets                Bojan Bogdanovic  ...   3425510.0\n",
              "Charlotte Hornets               Nicolas Batum  ...  13125306.0\n",
              "Chicago Bulls                Cameron Bairstow  ...    845059.0\n",
              "Cleveland Cavaliers       Matthew Dellavedova  ...   1147276.0\n",
              "Dallas Mavericks              Justin Anderson  ...   1449000.0\n",
              "Denver Nuggets                 Darrell Arthur  ...   2814000.0\n",
              "Detroit Pistons                  Joel Anthony  ...   2500000.0\n",
              "Golden State Warriors         Leandro Barbosa  ...   2500000.0\n",
              "Houston Rockets                  Trevor Ariza  ...   8193030.0\n",
              "Indiana Pacers                    Lavoy Allen  ...   4050000.0\n",
              "Los Angeles Clippers             Cole Aldrich  ...   1100602.0\n",
              "Los Angeles Lakers               Brandon Bass  ...   3000000.0\n",
              "Memphis Grizzlies                Jordan Adams  ...   1404600.0\n",
              "Miami Heat                         Chris Bosh  ...  22192730.0\n",
              "Milwaukee Bucks         Giannis Antetokounmpo  ...   1953960.0\n",
              "Minnesota Timberwolves        Nemanja Bjelica  ...   3950001.0\n",
              "New Orleans Pelicans            Alexis Ajinca  ...   4389607.0\n",
              "New York Knicks                 Arron Afflalo  ...   8000000.0\n",
              "Oklahoma City Thunder            Steven Adams  ...   2279040.0\n",
              "Orlando Magic                  Dewayne Dedmon  ...    947276.0\n",
              "Philadelphia 76ers                Elton Brand  ...    947276.0\n",
              "Phoenix Suns                     Eric Bledsoe  ...  13500000.0\n",
              "Portland Trail Blazers        Cliff Alexander  ...    525093.0\n",
              "Sacramento Kings                   Quincy Acy  ...    981348.0\n",
              "San Antonio Spurs           LaMarcus Aldridge  ...  19689000.0\n",
              "Toronto Raptors               Bismack Biyombo  ...   2814000.0\n",
              "Utah Jazz                       Trevor Booker  ...   4775000.0\n",
              "Washington Wizards              Alan Anderson  ...   4000000.0\n",
              "\n",
              "[30 rows x 8 columns]"
            ]
          },
          "metadata": {},
          "execution_count": 39
        }
      ]
    }
  ]
}
