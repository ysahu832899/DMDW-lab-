{
  "nbformat": 4,
  "nbformat_minor": 0,
  "metadata": {
    "colab": {
      "name": "12/10/21_LAB_WORK.ipynb",
      "provenance": [],
      "collapsed_sections": [],
      "authorship_tag": "ABX9TyM8CFTbR161miW6rEml/k2A",
      "include_colab_link": true
    },
    "kernelspec": {
      "name": "python3",
      "display_name": "Python 3"
    },
    "language_info": {
      "name": "python"
    }
  },
  "cells": [
    {
      "cell_type": "markdown",
      "metadata": {
        "id": "view-in-github",
        "colab_type": "text"
      },
      "source": [
        "<a href=\"https://colab.research.google.com/github/saipatnaik-cse/DMDW-LAB-ASSIGNMENTS/blob/main/12_10_21_LAB_WORK.ipynb\" target=\"_parent\"><img src=\"https://colab.research.google.com/assets/colab-badge.svg\" alt=\"Open In Colab\"/></a>"
      ]
    },
    {
      "cell_type": "code",
      "metadata": {
        "colab": {
          "base_uri": "https://localhost:8080/"
        },
        "id": "B-kcexD51U1z",
        "outputId": "8e132c7e-2300-4b1d-b810-2c95c11a8af0"
      },
      "source": [
        "import numpy as np\n",
        "a=np.array([1,2,3])\n",
        "print(type(a))\n",
        "print(a)\n",
        "b=np.array(([1,2],[3,4]))\n",
        "print(b)\n",
        "print(b.shape)"
      ],
      "execution_count": null,
      "outputs": [
        {
          "output_type": "stream",
          "name": "stdout",
          "text": [
            "<class 'numpy.ndarray'>\n",
            "[1 2 3]\n",
            "[[1 2]\n",
            " [3 4]]\n",
            "(2, 2)\n"
          ]
        }
      ]
    },
    {
      "cell_type": "code",
      "metadata": {
        "colab": {
          "base_uri": "https://localhost:8080/"
        },
        "id": "CcyBcyLI3AYu",
        "outputId": "688268d8-b001-4840-f54c-ddc499a53f6e"
      },
      "source": [
        "a=np.zeros((3,3))\n",
        "print(a)\n",
        "print(a.shape)\n",
        "b=np.ones((4,3))\n",
        "print(b)"
      ],
      "execution_count": null,
      "outputs": [
        {
          "output_type": "stream",
          "name": "stdout",
          "text": [
            "[[0. 0. 0.]\n",
            " [0. 0. 0.]\n",
            " [0. 0. 0.]]\n",
            "(3, 3)\n",
            "[[1. 1. 1.]\n",
            " [1. 1. 1.]\n",
            " [1. 1. 1.]\n",
            " [1. 1. 1.]]\n"
          ]
        }
      ]
    },
    {
      "cell_type": "code",
      "metadata": {
        "colab": {
          "base_uri": "https://localhost:8080/"
        },
        "id": "pjP8Fwvl3nDv",
        "outputId": "b319ff94-493a-4757-9040-382d623d78d1"
      },
      "source": [
        "a=np.random.random((3,3))\n",
        "print(a)"
      ],
      "execution_count": null,
      "outputs": [
        {
          "output_type": "stream",
          "name": "stdout",
          "text": [
            "[[0.24023923 0.41920117 0.70945237]\n",
            " [0.37970546 0.37327964 0.18129754]\n",
            " [0.11930392 0.16703978 0.42326126]]\n"
          ]
        }
      ]
    },
    {
      "cell_type": "code",
      "metadata": {
        "colab": {
          "base_uri": "https://localhost:8080/"
        },
        "id": "vmJbsbh_4JaK",
        "outputId": "9b5aa899-6058-4894-bafe-0ab9705610f9"
      },
      "source": [
        "I=np.eye(3)\n",
        "print(I)"
      ],
      "execution_count": null,
      "outputs": [
        {
          "output_type": "stream",
          "name": "stdout",
          "text": [
            "[[1. 0. 0.]\n",
            " [0. 1. 0.]\n",
            " [0. 0. 1.]]\n"
          ]
        }
      ]
    },
    {
      "cell_type": "code",
      "metadata": {
        "colab": {
          "base_uri": "https://localhost:8080/"
        },
        "id": "iHXl1SR14Y9S",
        "outputId": "f683a04d-2ead-481a-a980-62024f5cf756"
      },
      "source": [
        "a=np.arange(20)\n",
        "print(a)\n",
        "print(a[1:7:2]) #start , stop ,jump\n",
        "print(a[5:15:3])\n",
        "print(a[-1:5:-1])"
      ],
      "execution_count": null,
      "outputs": [
        {
          "output_type": "stream",
          "name": "stdout",
          "text": [
            "[ 0  1  2  3  4  5  6  7  8  9 10 11 12 13 14 15 16 17 18 19]\n",
            "[1 3 5]\n",
            "[ 5  8 11 14]\n",
            "[19 18 17 16 15 14 13 12 11 10  9  8  7  6]\n"
          ]
        }
      ]
    },
    {
      "cell_type": "code",
      "metadata": {
        "colab": {
          "base_uri": "https://localhost:8080/"
        },
        "id": "UDfFLL7Q5-Im",
        "outputId": "ed7f3d2c-3936-4f99-ad7d-c583d1284732"
      },
      "source": [
        "import numpy as np\n",
        "a=np.array([[12,11],[9,7],[5,13]])\n",
        "print(a.shape)\n",
        "print(a>10)\n",
        "print(b)\n",
        "b=np.random.random((3,2))\n",
        "print(a+b)\n",
        "print(a-b)"
      ],
      "execution_count": null,
      "outputs": [
        {
          "output_type": "stream",
          "name": "stdout",
          "text": [
            "(3, 2)\n",
            "[[ True  True]\n",
            " [False False]\n",
            " [False  True]]\n",
            "[[1. 1. 1.]\n",
            " [1. 1. 1.]\n",
            " [1. 1. 1.]\n",
            " [1. 1. 1.]]\n",
            "[[12.48348394 11.80184201]\n",
            " [ 9.11069526  7.53272289]\n",
            " [ 5.39517319 13.92987029]]\n",
            "[[11.51651606 10.19815799]\n",
            " [ 8.88930474  6.46727711]\n",
            " [ 4.60482681 12.07012971]]\n"
          ]
        }
      ]
    },
    {
      "cell_type": "code",
      "metadata": {
        "colab": {
          "base_uri": "https://localhost:8080/"
        },
        "id": "XgEJCZE37cR6",
        "outputId": "743b5752-ff89-4c7f-d410-a044c6fac871"
      },
      "source": [
        "import numpy as np\n",
        "a=np.array([[12,11],[9,7],[5,13]])\n",
        "print(a)\n",
        "x=np.sum(a,axis=0)\n",
        "print(x)\n",
        "\n",
        "y=np.sum(a,axis=1)\n",
        "print(y)"
      ],
      "execution_count": null,
      "outputs": [
        {
          "output_type": "stream",
          "name": "stdout",
          "text": [
            "[[12 11]\n",
            " [ 9  7]\n",
            " [ 5 13]]\n",
            "[26 31]\n",
            "[23 16 18]\n"
          ]
        }
      ]
    },
    {
      "cell_type": "code",
      "metadata": {
        "colab": {
          "base_uri": "https://localhost:8080/"
        },
        "id": "AQDsOcfA8Wq3",
        "outputId": "078738bb-a8c3-47f8-9a67-9952248ad9d7"
      },
      "source": [
        "a=np.array([[12,11],[9,7]])\n",
        "print(a)\n",
        "print()\n",
        "print(a.T)"
      ],
      "execution_count": null,
      "outputs": [
        {
          "output_type": "stream",
          "name": "stdout",
          "text": [
            "[[12 11]\n",
            " [ 9  7]]\n",
            "\n",
            "[[12  9]\n",
            " [11  7]]\n"
          ]
        }
      ]
    },
    {
      "cell_type": "code",
      "metadata": {
        "colab": {
          "base_uri": "https://localhost:8080/"
        },
        "id": "2x2IC65A-q0G",
        "outputId": "3ab59ccf-bb23-4bca-b2d0-8272ffd4163d"
      },
      "source": [
        "import numpy as np\n",
        "a=np.array([[12,11,15],[9,7,3]])\n",
        "print(a)\n",
        "print()\n",
        "w=np.array([1.0,1.1,1.2])\n",
        "print(w)\n",
        "print(a+w)"
      ],
      "execution_count": null,
      "outputs": [
        {
          "output_type": "stream",
          "name": "stdout",
          "text": [
            "[[12 11 15]\n",
            " [ 9  7  3]]\n",
            "\n",
            "[1.  1.1 1.2]\n",
            "[[13.  12.1 16.2]\n",
            " [10.   8.1  4.2]]\n"
          ]
        }
      ]
    },
    {
      "cell_type": "code",
      "metadata": {
        "colab": {
          "base_uri": "https://localhost:8080/"
        },
        "id": "UR3_UCGVAhUo",
        "outputId": "eb5b8297-84c0-4245-d1c9-9743de5225f6"
      },
      "source": [
        "a=np.array([[12,11,15],[9,7,3]])\n",
        "w=np.array([1.0,1.1])\n",
        "print((a.T+w).T)"
      ],
      "execution_count": null,
      "outputs": [
        {
          "output_type": "stream",
          "name": "stdout",
          "text": [
            "[[13.  12.  16. ]\n",
            " [10.1  8.1  4.1]]\n"
          ]
        }
      ]
    },
    {
      "cell_type": "code",
      "metadata": {
        "id": "719ANLGkAudx"
      },
      "source": [
        "import numpy as np\n"
      ],
      "execution_count": null,
      "outputs": []
    }
  ]
}