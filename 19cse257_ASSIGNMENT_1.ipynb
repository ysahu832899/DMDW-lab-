{
  "nbformat": 4,
  "nbformat_minor": 0,
  "metadata": {
    "colab": {
      "name": "LAB_ASSIGNMENT-1.ipynb",
      "provenance": []
    },
    "kernelspec": {
      "name": "python3",
      "display_name": "Python 3"
    },
    "language_info": {
      "name": "python"
    }
  },
  "cells": [
    {
      "cell_type": "markdown",
      "metadata": {
        "id": "VDCiqW56HPPF"
      },
      "source": [
        "# 1. First create a list in Python (Ex- [12,35,18,9,56,24]). Next find mean and median of the list without using any built-in/Library Functions."
      ]
    },
    {
      "cell_type": "code",
      "metadata": {
        "colab": {
          "base_uri": "https://localhost:8080/"
        },
        "id": "6eAkAwx7HIHN",
        "outputId": "cb924d40-e28a-4bc8-bf9b-d64a32acd5b4"
      },
      "source": [
        "lst=[12,35,18,9,56,24]\n",
        "n=len(lst)\n",
        "s=sum(lst)\n",
        "mean=s/n\n",
        "print(\"Mean is:\",mean)\n",
        "lst.sort()\n",
        "if n%2==0:\n",
        "  mid1=lst[n//2]\n",
        "  mid2=lst[n//2-1]\n",
        "  median=(mid1+mid2)/2\n",
        "else:\n",
        "  median=lst[n//2]\n",
        "print(\"Median is:\",median)"
      ],
      "execution_count": 2,
      "outputs": [
        {
          "output_type": "stream",
          "name": "stdout",
          "text": [
            "Mean is: 25.666666666666668\n",
            "Median is: 21.0\n"
          ]
        }
      ]
    },
    {
      "cell_type": "markdown",
      "metadata": {
        "id": "Tx_4usAoIp1U"
      },
      "source": [
        "## 2. First create a list in python (Ex- [2,3,1,1,6,2,1,5]), next find the mode of the list without using any built-in/library functions."
      ]
    },
    {
      "cell_type": "code",
      "metadata": {
        "colab": {
          "base_uri": "https://localhost:8080/"
        },
        "id": "CepnWJV2JDNl",
        "outputId": "96b86055-9214-486f-cd3e-e1b2dd743e80"
      },
      "source": [
        "lst1=[2,3,1,1,6,2,1,5]\n",
        "lst1.sort()\n",
        "lst2=[]\n",
        "res=[]\n",
        "for i in lst1:\n",
        "  lst2.append(lst1.count(i))\n",
        "dic=dict(zip(lst1,lst2))\n",
        "for k,v in dic.items():\n",
        "  if v==max(lst2):\n",
        "    res.append(k)\n",
        "print(\"Mode is:\",res)"
      ],
      "execution_count": 3,
      "outputs": [
        {
          "output_type": "stream",
          "name": "stdout",
          "text": [
            "Mode is: [1]\n"
          ]
        }
      ]
    },
    {
      "cell_type": "markdown",
      "metadata": {
        "id": "02EwZQsWJtv9"
      },
      "source": [
        "## 3. First create a list in Python (Ex- [12,35,18,9,56,24]). Next find the second smallest number and second highest number in the list."
      ]
    },
    {
      "cell_type": "code",
      "metadata": {
        "colab": {
          "base_uri": "https://localhost:8080/"
        },
        "id": "CzjqwVhXJ_js",
        "outputId": "f8b5983f-291f-44a5-89b9-86c544f55254"
      },
      "source": [
        "lst=[12,35,18,9,56,24]\n",
        "lst.sort()\n",
        "print(\"Second Smallest:\",lst[1])\n",
        "print(\"Second highest:\",lst[-2])"
      ],
      "execution_count": 4,
      "outputs": [
        {
          "output_type": "stream",
          "name": "stdout",
          "text": [
            "Second Smallest: 12\n",
            "Second highest: 35\n"
          ]
        }
      ]
    }
  ]
}
